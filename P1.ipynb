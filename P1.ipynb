{
 "cells": [
  {
   "cell_type": "code",
   "execution_count": 28,
   "id": "0679ad73",
   "metadata": {},
   "outputs": [
    {
     "name": "stdout",
     "output_type": "stream",
     "text": [
      "Enter number of rows : 8\n",
      "       *  \n",
      "      * *  \n",
      "     * * *  \n",
      "    * * * *  \n",
      "   * * * * *  \n",
      "  * * * * * *  \n",
      " * * * * * * *  \n",
      "* * * * * * * *  \n"
     ]
    }
   ],
   "source": [
    "n=int(input(\"Enter number of rows : \"))\n",
    "for i in range(n):\n",
    "    for j in range(n-i-1):\n",
    "        #print(\" \",end=\" \") RHS Triangle\n",
    "        print(end=\" \") #Pyramid\n",
    "    for j in range(i+1):\n",
    "        print(\"*\",end=\" \")\n",
    "    print(\" \")\n",
    "        \n",
    "        "
   ]
  },
  {
   "cell_type": "code",
   "execution_count": 30,
   "id": "e16b9300",
   "metadata": {},
   "outputs": [
    {
     "name": "stdout",
     "output_type": "stream",
     "text": [
      "        *\n",
      "       * *\n",
      "      * * *\n",
      "     * * * *\n",
      "    * * * * *\n",
      "   * * * * * *\n",
      "  * * * * * * *\n",
      " * * * * * * * *\n"
     ]
    }
   ],
   "source": [
    "def pyramid(rows):\n",
    "    for i in range(rows):\n",
    "        print(\" \"*(rows-i-1)+' *'*(i+1))\n",
    "pyramid(8)"
   ]
  },
  {
   "cell_type": "code",
   "execution_count": 46,
   "id": "5c7579c4",
   "metadata": {},
   "outputs": [
    {
     "name": "stdout",
     "output_type": "stream",
     "text": [
      " * * * * * * * * *\n",
      "  * * * * * * * *\n",
      "   * * * * * * *\n",
      "    * * * * * *\n",
      "     * * * * *\n",
      "      * * * *\n",
      "       * * *\n",
      "        * *\n",
      "         *\n"
     ]
    }
   ],
   "source": [
    "\n",
    "def pyramid(rows):\n",
    "    for i in range(rows,-1,-1):\n",
    "        print(\" \"*(rows-i)+' *'*(i+1))\n",
    "pyramid(8)"
   ]
  },
  {
   "cell_type": "code",
   "execution_count": 44,
   "id": "d3db8e6c",
   "metadata": {},
   "outputs": [
    {
     "name": "stdout",
     "output_type": "stream",
     "text": [
      "* * * * * * * * \n",
      " * * * * * * * \n",
      "  * * * * * * \n",
      "   * * * * * \n",
      "    * * * * \n",
      "     * * * \n",
      "      * * \n",
      "       * \n"
     ]
    }
   ],
   "source": [
    "num=8\n",
    "for i in range(num,0,-1):\n",
    "    for j in range(0,num-i):\n",
    "        print(end=\" \")\n",
    "    for j in range(0,i):\n",
    "        print(\"*\",end=\" \")\n",
    "    print()"
   ]
  },
  {
   "cell_type": "code",
   "execution_count": 50,
   "id": "0581d874",
   "metadata": {},
   "outputs": [
    {
     "name": "stdout",
     "output_type": "stream",
     "text": [
      "Enter number of rows : 9\n",
      "        * \n",
      "       * * \n",
      "      * * * \n",
      "     * * * * \n",
      "    * * * * * \n",
      "   * * * * * * \n",
      "  * * * * * * * \n",
      " * * * * * * * * \n",
      "* * * * * * * * * \n",
      " * * * * * * * * \n",
      "  * * * * * * * \n",
      "   * * * * * * \n",
      "    * * * * * \n",
      "     * * * * \n",
      "      * * * \n",
      "       * * \n",
      "        * \n"
     ]
    }
   ],
   "source": [
    "def pyramid(rows):\n",
    "    for i in range(rows):\n",
    "        print(' '*(rows-i-1)+\"* \"*(i+1))\n",
    "    for j in range(rows-1,0,-1):\n",
    "        print(' '*(rows-j)+'* '*(j))\n",
    "rows=int(input(\"Enter number of rows : \"))\n",
    "pyramid(rows)"
   ]
  },
  {
   "cell_type": "code",
   "execution_count": 1,
   "id": "0331994b",
   "metadata": {},
   "outputs": [
    {
     "name": "stdout",
     "output_type": "stream",
     "text": [
      "Enter number of rows : 7\n",
      "* \n",
      "* * \n",
      "* * * \n",
      "* * * * \n",
      "* * * * * \n",
      "* * * * * * \n",
      "* * * * * * * \n",
      "* * * * * * \n",
      "* * * * * \n",
      "* * * * \n",
      "* * * \n",
      "* * \n",
      "* \n"
     ]
    }
   ],
   "source": [
    "def pyramid(rows):\n",
    "    for i in range(rows):\n",
    "        print(''*(rows-i-1)+\"* \"*(i+1))\n",
    "    for j in range(rows-1,0,-1):\n",
    "        print(''*(rows-j)+'* '*(j))\n",
    "rows=int(input(\"Enter number of rows : \"))\n",
    "pyramid(rows)"
   ]
  },
  {
   "cell_type": "code",
   "execution_count": 5,
   "id": "b32cb5bb",
   "metadata": {},
   "outputs": [
    {
     "name": "stdout",
     "output_type": "stream",
     "text": [
      "Enter the number of rows6\n",
      "* \n",
      "* * * \n",
      "* * * * * \n",
      "* * * * * * * \n",
      "* * * * * * * * * \n",
      "* * * * * * * * * * * \n"
     ]
    }
   ],
   "source": [
    "n=int(input(\"Enter the number of rows\"))\n",
    "for i in range(n):\n",
    "    for j in range(2*i+1):\n",
    "        print(\"*\",end=\" \")\n",
    "    print()\n",
    "        "
   ]
  },
  {
   "cell_type": "code",
   "execution_count": 6,
   "id": "234cc444",
   "metadata": {},
   "outputs": [
    {
     "name": "stdout",
     "output_type": "stream",
     "text": [
      "* * * * *  \n",
      "* * * *  \n",
      "* * *  \n",
      "* *  \n",
      "*  \n"
     ]
    }
   ],
   "source": [
    "n=int(input(\"Enter number of rows : \"))\n",
    "for i in range(n,0,-1):\n",
    "    for j in range(0,i):\n",
    "        print(\"*\",end=\" \")\n",
    "    print(\" \")"
   ]
  },
  {
   "cell_type": "code",
   "execution_count": 13,
   "id": "5bf15911",
   "metadata": {},
   "outputs": [
    {
     "name": "stdout",
     "output_type": "stream",
     "text": [
      "Enter number of rows : 7\n",
      "*******\n",
      " *    *\n",
      "  *   *\n",
      "   *  *\n",
      "    * *\n",
      "     **\n",
      "      *\n"
     ]
    }
   ],
   "source": [
    "n=int(input(\"Enter number of rows : \"))\n",
    "for row in range(0,n):\n",
    "    for col in range(0,n):\n",
    "        if row==0 or col==n-1 or row==col:\n",
    "            print(\"*\",end=\"\")\n",
    "        else:\n",
    "            print(end=\" \")\n",
    "    print()"
   ]
  },
  {
   "cell_type": "code",
   "execution_count": 16,
   "id": "0dd63226",
   "metadata": {},
   "outputs": [
    {
     "name": "stdout",
     "output_type": "stream",
     "text": [
      "1 \n",
      "2 3 \n",
      "4 5 6 \n",
      "7 8 9 10 \n"
     ]
    }
   ],
   "source": [
    "a=1\n",
    "for i in range(4):\n",
    "    for j in range(i+1):\n",
    "        print(a,end=\" \")\n",
    "        a+=1\n",
    "    print()"
   ]
  },
  {
   "cell_type": "code",
   "execution_count": 20,
   "id": "622ccb23",
   "metadata": {},
   "outputs": [
    {
     "name": "stdout",
     "output_type": "stream",
     "text": [
      "\n",
      "p \n",
      "p y \n",
      "p y t \n",
      "p y t h \n",
      "p y t h o \n",
      "p y t h o n \n"
     ]
    }
   ],
   "source": [
    "a=\"python\"\n",
    "for i in range(len(a)+1):\n",
    "    for j in range(i):\n",
    "        print(a[j],end=\" \")\n",
    "    print()"
   ]
  },
  {
   "cell_type": "code",
   "execution_count": 30,
   "id": "ed6e66b5",
   "metadata": {},
   "outputs": [
    {
     "name": "stdout",
     "output_type": "stream",
     "text": [
      "1 2 3 4 \n",
      "1 2 3 \n",
      "1 2 \n",
      "1 \n"
     ]
    }
   ],
   "source": [
    "a=5\n",
    "for i in range(1,5):\n",
    "    for j in range(1,a):\n",
    "        print(j,end=\" \")\n",
    "    a-=1\n",
    "    print()"
   ]
  },
  {
   "cell_type": "code",
   "execution_count": 32,
   "id": "3aa4f11d",
   "metadata": {},
   "outputs": [
    {
     "name": "stdout",
     "output_type": "stream",
     "text": [
      "4 4 4 4 \n",
      "3 3 3 \n",
      "2 2 \n",
      "1 \n"
     ]
    }
   ],
   "source": [
    "a=4\n",
    "for i in range(4):\n",
    "    for j in range(4,i,-1):\n",
    "        print(a,end=\" \")\n",
    "    a-=1\n",
    "    print()"
   ]
  },
  {
   "cell_type": "code",
   "execution_count": 8,
   "id": "00eacc7f",
   "metadata": {},
   "outputs": [
    {
     "name": "stdout",
     "output_type": "stream",
     "text": [
      "   *   \n",
      "  * *  \n",
      " *   * \n",
      "*******\n"
     ]
    }
   ],
   "source": [
    "for row in range(1,5):\n",
    "    for col in range(1,8):\n",
    "        if row==4 or row+col==5 or col-row==3:\n",
    "            print(\"*\",end=\"\")\n",
    "        else:\n",
    "            print(end=\" \")\n",
    "    print()"
   ]
  },
  {
   "cell_type": "code",
   "execution_count": 9,
   "id": "a380ff54",
   "metadata": {},
   "outputs": [
    {
     "name": "stdout",
     "output_type": "stream",
     "text": [
      "Enter number of rows: 8\n",
      "       *       \n",
      "      * *      \n",
      "     *   *     \n",
      "    *     *    \n",
      "   *       *   \n",
      "  *         *  \n",
      " *           * \n",
      "***************\n"
     ]
    }
   ],
   "source": [
    "n=int(input(\"Enter number of rows: \"))\n",
    "for row in range(1,n+1):\n",
    "    for col in range(1,n*2):\n",
    "        if row==n or row+col==n+1 or col-row==n-1:\n",
    "            print(\"*\",end=\"\")\n",
    "        else:\n",
    "            print(end=\" \")\n",
    "    print()"
   ]
  },
  {
   "cell_type": "code",
   "execution_count": 15,
   "id": "9f92f005",
   "metadata": {},
   "outputs": [
    {
     "name": "stdout",
     "output_type": "stream",
     "text": [
      "Enter number of rows: 5\n",
      "    *    \n",
      "   * *   \n",
      "  *   *  \n",
      " *     * \n",
      "* * * * *\n"
     ]
    }
   ],
   "source": [
    "n=int(input(\"Enter number of rows: \"))\n",
    "for row in range(1,n+1):\n",
    "    for col in range(1,n*2):\n",
    "        if row+col==n+1 or col-row==n-1:\n",
    "            print(\"*\",end=\"\")\n",
    "        elif row==n:\n",
    "            if col%2!=0:\n",
    "                print(\"*\",end=\"\")\n",
    "            else:\n",
    "                print(end=\" \")\n",
    "        else:\n",
    "            print(end=\" \")\n",
    "    print()"
   ]
  },
  {
   "cell_type": "code",
   "execution_count": 22,
   "id": "185e2b25",
   "metadata": {},
   "outputs": [
    {
     "name": "stdout",
     "output_type": "stream",
     "text": [
      "Enter number of rows : 4\n",
      "   1\n",
      "  212\n",
      " 32123\n",
      "4321234\n"
     ]
    }
   ],
   "source": [
    "n=int(input(\"Enter number of rows : \"))\n",
    "for i in range(1,n+1):\n",
    "    for j in range(1,n-i+1):\n",
    "        print(end=\" \")\n",
    "    for j in range(i,0,-1):\n",
    "        print(j,end=\"\")\n",
    "    for j in range(2,i+1):\n",
    "        print(j,end=\"\")\n",
    "    print()"
   ]
  },
  {
   "cell_type": "code",
   "execution_count": 23,
   "id": "509467ef",
   "metadata": {},
   "outputs": [
    {
     "name": "stdout",
     "output_type": "stream",
     "text": [
      "Enter number of rows : 5\n",
      "15  \n",
      "14  13  \n",
      "12  11  10  \n",
      "9   8   7   6   \n",
      "5   4   3   2   1   \n"
     ]
    }
   ],
   "source": [
    "n=int(input(\"Enter number of rows : \"))\n",
    "k=0\n",
    "for i in range(n):\n",
    "    k=k+i\n",
    "m=n+k\n",
    "for i in range(n):\n",
    "    for j in range(i+1):\n",
    "        print(format(m,\"<3\"),end=\" \")\n",
    "        m=m-1\n",
    "    print()"
   ]
  },
  {
   "cell_type": "code",
   "execution_count": 37,
   "id": "211b6f06",
   "metadata": {},
   "outputs": [
    {
     "name": "stdout",
     "output_type": "stream",
     "text": [
      "Enter number of rows : 5\n",
      "    *  1 \n",
      "   * *  2 3 \n",
      "  * * *  3 4 5 \n",
      " * * * *  4 5 6 7 \n",
      "* * * * *  5 6 7 8 9 \n",
      "5 4 3 2 1  1 3 5 7 9 \n",
      " 5 4 3 2  3 5 7 9 \n",
      "  5 4 3  5 7 9 \n",
      "   5 4  7 9 \n",
      "    5  9 \n"
     ]
    }
   ],
   "source": [
    "n=int(input(\"Enter number of rows : \"))\n",
    "for i in range(n):\n",
    "    m=i+1\n",
    "    for j in range(n-i-1):\n",
    "        print(end=\" \")\n",
    "    for j in range(i+1):\n",
    "        print(\"*\",end=\" \")\n",
    "    print(end=\" \")\n",
    "    for j in range(i+1):\n",
    "        print(m,end=\" \")\n",
    "        m+=1\n",
    "    print()\n",
    "for i in range(0,2*n,2):\n",
    "    k=i//2\n",
    "    for j in range(k):\n",
    "        print(end=\" \")\n",
    "    for j in range(n-k):\n",
    "        print(n-j,end=\" \")\n",
    "    print(end=\" \")\n",
    "    for j in range(i,2*n,2):\n",
    "        print(j+1,end=\" \")\n",
    "    print()"
   ]
  },
  {
   "cell_type": "code",
   "execution_count": 15,
   "id": "fe315947",
   "metadata": {},
   "outputs": [
    {
     "name": "stdout",
     "output_type": "stream",
     "text": [
      "Enter number of rows : 5\n",
      "1    \n",
      "2    6    \n",
      "3    7    10   \n",
      "4    8    11   13   \n",
      "5    9    12   14   15   \n"
     ]
    }
   ],
   "source": [
    "n=int(input(\"Enter number of rows : \"))\n",
    "for row in range(n):\n",
    "    val=row+1\n",
    "    dec=n-1\n",
    "    for col in range(row+1):\n",
    "        print(format(val,\"<4\"),end=\" \")\n",
    "        val=val+dec\n",
    "        dec-=1\n",
    "    print()"
   ]
  },
  {
   "cell_type": "code",
   "execution_count": 21,
   "id": "d9a824e2",
   "metadata": {},
   "outputs": [
    {
     "name": "stdout",
     "output_type": "stream",
     "text": [
      "Enter number of rows : 6\n",
      "21   \n",
      "20   15   \n",
      "19   14   10   \n",
      "18   13   9    6    \n",
      "17   12   8    5    3    \n",
      "16   11   7    4    2    1    \n"
     ]
    }
   ],
   "source": [
    "n=int(input(\"Enter number of rows : \"))\n",
    "def num(n1):\n",
    "    if n1==1:\n",
    "        return 1\n",
    "    return n1+num(n1-1)\n",
    "k=num(n)\n",
    "for row in range(n):\n",
    "    val=k-row\n",
    "    dec=n-1\n",
    "    for col in range(row+1):\n",
    "        print(format(val,\"<4\"),end=\" \")\n",
    "        val=val-dec\n",
    "        dec-=1\n",
    "    print()"
   ]
  },
  {
   "cell_type": "markdown",
   "id": "7c653c3f",
   "metadata": {},
   "source": []
  },
  {
   "cell_type": "code",
   "execution_count": 27,
   "id": "85ac4193",
   "metadata": {},
   "outputs": [
    {
     "name": "stdout",
     "output_type": "stream",
     "text": [
      "Enter number of rows : 4\n",
      "[[1], [1, 1], [1, 2, 1], [1, 3, 3, 1]]\n",
      "   1 \n",
      "  1 1 \n",
      " 1 2 1 \n",
      "1 3 3 1 \n"
     ]
    }
   ],
   "source": [
    "import math\n",
    "n=int(input(\"Enter number of rows : \"))\n",
    "list1=[]\n",
    "for i in range(n):\n",
    "    temp_list=[]\n",
    "    for j in range(i+1):\n",
    "        if j==0 or j==i:\n",
    "            temp_list.append(1)\n",
    "        else:\n",
    "            temp_list.append(list1[i-1][j-1]+list1[i-1][j])\n",
    "        \n",
    "    list1.append(temp_list)\n",
    "print(list1)\n",
    "for i in range(n):\n",
    "    for j in range(n-i-1):\n",
    "        print(end=\" \")\n",
    "    for j in range(i+1):\n",
    "        print(list1[i][j],end=\" \")\n",
    "    print()"
   ]
  },
  {
   "cell_type": "code",
   "execution_count": 33,
   "id": "5e275cde",
   "metadata": {},
   "outputs": [
    {
     "name": "stdout",
     "output_type": "stream",
     "text": [
      "Enter number of rows : 4\n",
      "[[1], [1, 1], [1, 2, 1], [1, 3, 3, 1]]\n",
      "   1 \n",
      "  1 1 \n",
      " 1 2 1 \n",
      "1 3 3 1 \n"
     ]
    }
   ],
   "source": [
    "import math\n",
    "n=int(input(\"Enter number of rows : \"))\n",
    "list1=[]\n",
    "for i in range(n):\n",
    "    temp_list=[]\n",
    "    for j in range(i+1):\n",
    "        temp_list.append(int(math.factorial(i)/(math.factorial(i-j)*math.factorial(j))))\n",
    "    list1.append(temp_list)\n",
    "print(list1)\n",
    "for i in range(n):\n",
    "    for j in range(n-i-1):\n",
    "        print(end=\" \")\n",
    "    for j in range(i+1):\n",
    "        print(list1[i][j],end=\" \")\n",
    "    print()"
   ]
  },
  {
   "cell_type": "code",
   "execution_count": 5,
   "id": "325be220",
   "metadata": {},
   "outputs": [
    {
     "name": "stdout",
     "output_type": "stream",
     "text": [
      "Enter number of rows : 7\n",
      "*  *  *  *  *  *  *  \n",
      "*       *  \n",
      "*   *  *  *   *  \n",
      "*   *   *   *  \n",
      "*   *  *  *   *  \n",
      "*       *  \n",
      "*  *  *  *  *  *  *  \n"
     ]
    }
   ],
   "source": [
    "# Python program to\n",
    "# print square inside\n",
    "# a square pattern\n",
    "\n",
    "# Function to print\n",
    "# the pattern square\n",
    "# inside a square\n",
    "n=int(input(\"Enter number of rows : \"))\n",
    "\t\n",
    "\t# To access rows of the square\n",
    "for i in range(1,n+1):\n",
    "\t\n",
    "\t\t# To access columns of the square\n",
    "\tfor j in range(1,n+1):\n",
    "\t\t\n",
    "\t\t\t# For printing the required square pattern\n",
    "\t\tif ((i == 1 or i == n or j == 1 or j == n) or\n",
    "\t\t\t(i >= 3 and i <= n - 2 and j >= 3 and j <= n - 2) and\n",
    "\t\t\t\t(i == 3 or i == n - 2 or j == 3 or j == n - 2)):\n",
    "\t\t\t\n",
    "\t\t\tprint(\"*\",end=\"\") # Prints star(*)\n",
    "\t\t\t\n",
    "\t\telse:\n",
    "\t\t\t\n",
    "\t\t\tprint(\" \",end=\"\") # Prints space(\" \")\n",
    "\t\t\t\n",
    "\tprint()\n",
    "\t\t\n",
    "\n",
    "#\n"
   ]
  },
  {
   "cell_type": "code",
   "execution_count": 15,
   "id": "217dddd9",
   "metadata": {},
   "outputs": [
    {
     "name": "stdout",
     "output_type": "stream",
     "text": [
      "Enter number of rows : 5\n",
      "1\t2\t3\t4\t5\t\n",
      "16\t17\t18\t19\t6\t\n",
      "15\t24\t25\t20\t7\t\n",
      "14\t23\t22\t21\t8\t\n",
      "13\t12\t11\t10\t9\t\n"
     ]
    }
   ],
   "source": [
    "num=int(input(\"Enter number of rows : \"))\n",
    "n_list=[[0 for x in range(num)] for y in range(num)]\n",
    "n=1\n",
    "low=0\n",
    "high=num-1\n",
    "count=int((num+1)/2)\n",
    "for i in range(count):\n",
    "    for j in range(low,high+1):\n",
    "        n_list[i][j]=n\n",
    "        n+=1\n",
    "    for j in range(low+1,high+1):\n",
    "        n_list[j][high]=n\n",
    "        n+=1\n",
    "    for j in range(high-1,low-1,-1):\n",
    "        n_list[high][j]=n\n",
    "        n+=1\n",
    "    for j in range(high-1,low,-1):\n",
    "        n_list[j][low]=n\n",
    "        n+=1\n",
    "    low+=1\n",
    "    high-=1\n",
    "for i in range(num):\n",
    "    for j in range(num):\n",
    "        print(n_list[i][j],end=\"\\t\")\n",
    "    print()"
   ]
  },
  {
   "cell_type": "code",
   "execution_count": 17,
   "id": "76e7fcd0",
   "metadata": {},
   "outputs": [
    {
     "name": "stdout",
     "output_type": "stream",
     "text": [
      "Enter number of rows : 5\n",
      "[[0, 0, 0, 0, 0], [0, 0, 0, 0, 0], [0, 0, 0, 0, 0], [0, 0, 0, 0, 0], [0, 0, 0, 0, 0]]\n",
      "3\t3\t3\t3\t3\t\n",
      "3\t2\t2\t2\t3\t\n",
      "3\t2\t1\t2\t3\t\n",
      "3\t2\t2\t2\t3\t\n",
      "3\t3\t3\t3\t3\t\n"
     ]
    }
   ],
   "source": [
    "num=int(input(\"Enter number of rows : \"))\n",
    "n_list=[[0 for x in range(num)] for y in range(num)]\n",
    "n=3\n",
    "low=0\n",
    "high=num-1\n",
    "count=int((num+1)/2)\n",
    "for i in range(count):\n",
    "    for j in range(low,high+1):\n",
    "        n_list[i][j]=n\n",
    "    for j in range(low+1,high+1):\n",
    "        n_list[j][high]=n\n",
    "    for j in range(high-1,low-1,-1):\n",
    "        n_list[high][j]=n\n",
    "    for j in range(high-1,low,-1):\n",
    "        n_list[j][low]=n\n",
    "    n-=1\n",
    "    low+=1\n",
    "    high-=1\n",
    "for i in range(num):\n",
    "    for j in range(num):\n",
    "        print(n_list[i][j],end=\"\\t\")\n",
    "    print()"
   ]
  },
  {
   "cell_type": "code",
   "execution_count": null,
   "id": "be54880e",
   "metadata": {},
   "outputs": [],
   "source": []
  }
 ],
 "metadata": {
  "kernelspec": {
   "display_name": "Python 3 (ipykernel)",
   "language": "python",
   "name": "python3"
  },
  "language_info": {
   "codemirror_mode": {
    "name": "ipython",
    "version": 3
   },
   "file_extension": ".py",
   "mimetype": "text/x-python",
   "name": "python",
   "nbconvert_exporter": "python",
   "pygments_lexer": "ipython3",
   "version": "3.10.8"
  }
 },
 "nbformat": 4,
 "nbformat_minor": 5
}
